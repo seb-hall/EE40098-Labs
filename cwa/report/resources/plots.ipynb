{
 "cells": [
  {
   "cell_type": "code",
   "execution_count": 95,
   "id": "af858d60",
   "metadata": {},
   "outputs": [
    {
     "data": {
      "image/png": "[encoded data removed]",
      "text/plain": [
       "<Figure size 200x200 with 1 Axes>"
      ]
     },
     "metadata": {},
     "output_type": "display_data"
    }
   ],
   "source": [
    "import numpy as np\n",
    "import matplotlib.pyplot as plt\n",
    "\n",
    "fig = plt.figure(figsize=(2, 2), dpi=100) \n",
    "min_val = -1\n",
    "max_val = 2\n",
    "\n",
    "# AND\n",
    "\n",
    "# Plot points\n",
    "points = [(0, 0), (0, 1), (1, 0), (1, 1)]\n",
    "colors = ['red', 'red', 'red', 'blue'] \n",
    "\n",
    "for (x, y), color in zip(points, colors):\n",
    "    plt.scatter(x, y, color=color, s=25, label=f'({x}, {y})', zorder=3)\n",
    "\n",
    "# Plot lines\n",
    "x_vals = np.linspace(-2, 2, 100)  # Sample 100 x-values\n",
    "y_vals = -x_vals + 1.5  # Line equation\n",
    "plt.plot(x_vals, y_vals, color='black', label='AND function')\n",
    "\n",
    "plt.fill_between(x_vals, y_vals, max_val, where=(y_vals <= max_val), color='blue', alpha=0.2, label='Output = 1 Region')\n",
    "plt.fill_between(x_vals, y_vals, min_val, where=(y_vals >= min_val), color='red', alpha=0.2, label='Output = 0 Region')\n",
    "\n",
    "# Styling\n",
    "plt.xlabel('B', labelpad=0)  # 'loc' moves label horizontally\n",
    "plt.ylabel('A', labelpad=0)  # rotate=0 keeps horizontal\n",
    "plt.axis([min_val, max_val, min_val, max_val])  # Padding around edges\n",
    "\n",
    "ax = plt.gca()\n",
    "ax.xaxis.set_label_coords(0.5, -0.1)\n",
    "ax.yaxis.set_label_coords(-0.05, 0.5)\n",
    "ax.margins(0)\n",
    "\n",
    "plt.xticks(np.arange(min_val, max_val + 1, 1))  # step of 1\n",
    "plt.yticks(np.arange(min_val, max_val + 1, 1))\n",
    "plt.grid(True, which='major', linewidth=0.6)\n",
    "\n",
    "plt.subplots_adjust(left=0, right=1, top=1, bottom=0)\n",
    "plt.savefig('and_plot.png', dpi=300, bbox_inches='tight')\n",
    "plt.show()"
   ]
  },
  {
   "cell_type": "code",
   "execution_count": 96,
   "id": "8afdc1f0",
   "metadata": {},
   "outputs": [
    {
     "data": {
      "image/png": "[encoded data removed]",
      "text/plain": [
       "<Figure size 200x200 with 1 Axes>"
      ]
     },
     "metadata": {},
     "output_type": "display_data"
    }
   ],
   "source": [
    "import numpy as np\n",
    "import matplotlib.pyplot as plt\n",
    "\n",
    "fig = plt.figure(figsize=(2, 2), dpi=100) \n",
    "min_val = -1\n",
    "max_val = 2\n",
    "\n",
    "# NAND\n",
    "\n",
    "# Plot points\n",
    "points = [(0, 0), (0, 1), (1, 0), (1, 1)]\n",
    "colors = ['blue', 'blue', 'blue', 'red'] \n",
    "\n",
    "for (x, y), color in zip(points, colors):\n",
    "    plt.scatter(x, y, color=color, s=25, label=f'({x}, {y})', zorder=3)\n",
    "\n",
    "# Plot lines\n",
    "x_vals = np.linspace(-2, 2, 100)  # Sample 100 x-values\n",
    "y_vals = -x_vals + 1.5  # Line equation\n",
    "plt.plot(x_vals, y_vals, color='black', label='AND function')\n",
    "\n",
    "plt.fill_between(x_vals, y_vals, max_val, where=(y_vals <= max_val), color='red', alpha=0.2, label='Output = 1 Region')\n",
    "plt.fill_between(x_vals, y_vals, min_val, where=(y_vals >= min_val), color='blue', alpha=0.2, label='Output = 0 Region')\n",
    "\n",
    "# Styling\n",
    "plt.xlabel('B', labelpad=0)  # 'loc' moves label horizontally\n",
    "plt.ylabel('A', labelpad=0)  # rotate=0 keeps horizontal\n",
    "plt.axis([min_val, max_val, min_val, max_val])  # Padding around edges\n",
    "\n",
    "ax = plt.gca()\n",
    "ax.xaxis.set_label_coords(0.5, -0.1)\n",
    "ax.yaxis.set_label_coords(-0.05, 0.5)\n",
    "ax.margins(0)\n",
    "\n",
    "plt.xticks(np.arange(min_val, max_val + 1, 1))  # step of 1\n",
    "plt.yticks(np.arange(min_val, max_val + 1, 1))\n",
    "plt.grid(True, which='major', linewidth=0.6)\n",
    "\n",
    "plt.subplots_adjust(left=0, right=1, top=1, bottom=0)\n",
    "plt.savefig('nand_plot.png', dpi=300, bbox_inches='tight')\n",
    "plt.show()"
   ]
  },
  {
   "cell_type": "code",
   "execution_count": null,
   "id": "c445efde",
   "metadata": {},
   "outputs": [
    {
     "data": {
      "image/png": "[encoded data removed]",
      "text/plain": [
       "<Figure size 200x200 with 1 Axes>"
      ]
     },
     "metadata": {},
     "output_type": "display_data"
    }
   ],
   "source": [
    "import numpy as np\n",
    "import matplotlib.pyplot as plt\n",
    "\n",
    "fig = plt.figure(figsize=(2, 2), dpi=100) \n",
    "min_val = -1\n",
    "max_val = 2\n",
    "\n",
    "# OR\n",
    "\n",
    "# Plot points\n",
    "points = [(0, 0), (0, 1), (1, 0), (1, 1)]\n",
    "colors = ['red', 'blue', 'blue', 'blue'] \n",
    "\n",
    "for (x, y), color in zip(points, colors):\n",
    "    plt.scatter(x, y, color=color, s=25, label=f'({x}, {y})', zorder=3)\n",
    "\n",
    "# Plot lines\n",
    "x_vals = np.linspace(-2, 2, 100)  # Sample 100 x-values\n",
    "y_vals = -x_vals + 0.5 # Line equation\n",
    "plt.plot(x_vals, y_vals, color='black', label='AND function')\n",
    "\n",
    "plt.fill_between(x_vals, y_vals, max_val, where=(y_vals <= max_val), color='blue', alpha=0.2, label='Output = 1 Region')\n",
    "plt.fill_between(x_vals, y_vals, min_val, where=(y_vals >= min_val), color='red', alpha=0.2, label='Output = 0 Region')\n",
    "\n",
    "# Styling\n",
    "plt.xlabel('B', labelpad=0)  # 'loc' moves label horizontally\n",
    "plt.ylabel('A', labelpad=0)  # rotate=0 keeps horizontal\n",
    "plt.axis([min_val, max_val, min_val, max_val])  # Padding around edges\n",
    "\n",
    "ax = plt.gca()\n",
    "ax.xaxis.set_label_coords(0.5, -0.1)\n",
    "ax.yaxis.set_label_coords(-0.05, 0.5)\n",
    "ax.margins(0)\n",
    "\n",
    "plt.xticks(np.arange(min_val, max_val + 1, 1))  # step of 1\n",
    "plt.yticks(np.arange(min_val, max_val + 1, 1))\n",
    "plt.grid(True, which='major', linewidth=0.6)\n",
    "\n",
    "plt.subplots_adjust(left=0, right=1, top=1, bottom=0)\n",
    "plt.savefig('or_plot.png', dpi=300, bbox_inches='tight')\n",
    "plt.show()"
   ]
  },
  {
   "cell_type": "code",
   "execution_count": null,
   "id": "20ff32da",
   "metadata": {},
   "outputs": [
    {
     "data": {
      "image/png": "[encoded data removed]",
      "text/plain": [
       "<Figure size 200x200 with 1 Axes>"
      ]
     },
     "metadata": {},
     "output_type": "display_data"
    }
   ],
   "source": [
    "import numpy as np\n",
    "import matplotlib.pyplot as plt\n",
    "\n",
    "fig = plt.figure(figsize=(2, 2), dpi=100) \n",
    "min_val = -1\n",
    "max_val = 2\n",
    "\n",
    "# XOR\n",
    "\n",
    "# Plot points\n",
    "points = [(0, 0), (0, 1), (1, 0), (1, 1)]\n",
    "colors = ['red', 'blue', 'blue', 'red'] \n",
    "\n",
    "for (x, y), color in zip(points, colors):\n",
    "    plt.scatter(x, y, color=color, s=25, label=f'({x}, {y})', zorder=3)\n",
    "\n",
    "# Plot lines\n",
    "x_vals = np.linspace(-2, 2, 100)  # Sample 100 x-values\n",
    "y_vals = -x_vals + 0.5 # Line equation\n",
    "plt.plot(x_vals, y_vals, color='black', label='AND function')\n",
    "\n",
    "y_vals2 = -x_vals + 1.5  # Second line equation\n",
    "plt.plot(x_vals, y_vals2, color='black', label='AND function')\n",
    "\n",
    "plt.fill_between(x_vals, y_vals, y_vals2, where=(y_vals <= max_val), color='blue', alpha=0.2, label='Output = 1 Region')\n",
    "plt.fill_between(x_vals, y_vals, min_val, where=(y_vals >= min_val), color='red', alpha=0.2, label='Output = 0 Region')\n",
    "plt.fill_between(x_vals, y_vals2, max_val, where=(y_vals <= max_val), color='red', alpha=0.2, label='Output = 1 Region')\n",
    "\n",
    "# Styling\n",
    "plt.xlabel('B', labelpad=0)  # 'loc' moves label horizontally\n",
    "plt.ylabel('A', labelpad=0)  # rotate=0 keeps horizontal\n",
    "plt.axis([min_val, max_val, min_val, max_val])  # Padding around edges\n",
    "\n",
    "ax = plt.gca()\n",
    "ax.xaxis.set_label_coords(0.5, -0.1)\n",
    "ax.yaxis.set_label_coords(-0.05, 0.5)\n",
    "ax.margins(0)\n",
    "\n",
    "plt.xticks(np.arange(min_val, max_val + 1, 1))  # step of 1\n",
    "plt.yticks(np.arange(min_val, max_val + 1, 1))\n",
    "plt.grid(True, which='major', linewidth=0.6)\n",
    "\n",
    "plt.subplots_adjust(left=0, right=1, top=1, bottom=0)\n",
    "plt.savefig('xor_plot.png', dpi=300, bbox_inches='tight')\n",
    "plt.show()"
   ]
  }
 ],
 "metadata": {
  "kernelspec": {
   "display_name": "Python 3",
   "language": "python",
   "name": "python3"
  },
  "language_info": {
   "codemirror_mode": {
    "name": "ipython",
    "version": 3
   },
   "file_extension": ".py",
   "mimetype": "text/x-python",
   "name": "python",
   "nbconvert_exporter": "python",
   "pygments_lexer": "ipython3",
   "version": "3.8.10"
  }
 },
 "nbformat": 4,
 "nbformat_minor": 5
}
